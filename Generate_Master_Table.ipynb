{
  "nbformat": 4,
  "nbformat_minor": 0,
  "metadata": {
    "colab": {
      "provenance": [],
      "authorship_tag": "ABX9TyN6zcuPXeeidQV1mFTrJYmc",
      "include_colab_link": true
    },
    "kernelspec": {
      "name": "python3",
      "display_name": "Python 3"
    },
    "language_info": {
      "name": "python"
    }
  },
  "cells": [
    {
      "cell_type": "markdown",
      "metadata": {
        "id": "view-in-github",
        "colab_type": "text"
      },
      "source": [
        "<a href=\"https://colab.research.google.com/github/bjvvuuren/e_commerce_solutions/blob/main/Generate_Master_Table.ipynb\" target=\"_parent\"><img src=\"https://colab.research.google.com/assets/colab-badge.svg\" alt=\"Open In Colab\"/></a>"
      ]
    },
    {
      "cell_type": "code",
      "source": [
        "# @title Setup\n",
        "from google.colab import auth\n",
        "from google.cloud import bigquery\n",
        "from google.colab import data_table\n",
        "\n",
        "project = 'active-woodland-226211' # Project ID inserted based on the query results selected to explore\n",
        "location = 'US' # Location inserted based on the query results selected to explore\n",
        "client = bigquery.Client(project=project, location=location)\n",
        "data_table.enable_dataframe_formatter()\n",
        "auth.authenticate_user()"
      ],
      "metadata": {
        "id": "vhXNPHfwBizP"
      },
      "execution_count": 1,
      "outputs": []
    },
    {
      "cell_type": "code",
      "execution_count": 2,
      "metadata": {
        "id": "8FbqLsxOwTjf"
      },
      "outputs": [],
      "source": [
        "import pandas as pd"
      ]
    },
    {
      "cell_type": "code",
      "source": [
        "query = \"\"\"\n",
        "WITH Demograhic_Order_data \n",
        "AS\n",
        "  (\n",
        "    SELECT\n",
        "    A.user_id,\n",
        "    A.gender,\n",
        "    A.age,\n",
        "    A.city,\n",
        "    A.state, \n",
        "    A.country,\n",
        "    A.traffic_source,\n",
        "    B.order_id,\n",
        "    B.purchase_date,\n",
        "    B.qty\n",
        "    \n",
        "    FROM\n",
        "    ((SELECT\n",
        "      id as user_id,\n",
        "      gender,\n",
        "      age,\n",
        "      city,\n",
        "      state,\n",
        "      country,\n",
        "      traffic_source\n",
        "      FROM `bigquery-public-data.thelook_ecommerce.users`) AS A\n",
        "\n",
        "    FULL OUTER JOIN\n",
        "\n",
        "    (\n",
        "      SELECT\n",
        "    order_id,\n",
        "    user_id,\n",
        "    created_at as purchase_date,\n",
        "    num_of_item as qty,\n",
        "\n",
        "    FROM `bigquery-public-data.thelook_ecommerce.orders`\n",
        "    ) AS B\n",
        "\n",
        "  on A.user_id = b.user_id\n",
        "  )),\n",
        "  Order_details AS\n",
        "    (\n",
        "      SELECT \n",
        "      D.order_id,\n",
        "      D.user_id,\n",
        "      D.product_id,\n",
        "      D.status,\n",
        "      D.revenue,\n",
        "      C.product_name,\n",
        "      C.product_brand,\n",
        "      C.product_category\n",
        "      FROM\n",
        "      (\n",
        "        SELECT\n",
        "        id as product_id,\n",
        "        name as product_name,\n",
        "        brand as product_brand,\n",
        "        department as product_category\n",
        "        FROM `bigquery-public-data.thelook_ecommerce.products`\n",
        "      ) AS C\n",
        "      FULL OUTER JOIN\n",
        "      (\n",
        "        SELECT\n",
        "        order_id,\n",
        "        user_id,\n",
        "        product_id,\n",
        "        status,\n",
        "        sale_price as revenue\n",
        "        FROM `bigquery-public-data.thelook_ecommerce.order_items`) AS D\n",
        "      \n",
        "      ON C.product_id = d.product_id\n",
        "    )\n",
        "    \n",
        "\n",
        "\n",
        "SELECT\n",
        "E.purchase_date,\n",
        "E.user_id,\n",
        "E.order_id,\n",
        "F.product_id,\n",
        "E.gender as user_gender,\n",
        "E.age as user_age,\n",
        "E.city as user_city,\n",
        "E.state as user_state, \n",
        "E.country as user_country,\n",
        "E.traffic_source as user_traffic_source,\n",
        "E.qty as order_qty,\n",
        "F.status as order_status,\n",
        "F.revenue,\n",
        "F.product_name,\n",
        "F.product_brand,\n",
        "F.product_category\n",
        "\n",
        "FROM\n",
        "(\n",
        "  (SELECT\n",
        "  *\n",
        "  FROM Demograhic_Order_data) as E\n",
        "\n",
        "  FULL OUTER JOIN\n",
        "\n",
        "  (\n",
        "    SELECT\n",
        "    *\n",
        "    FROM Order_details ) as F\n",
        "\n",
        "  ON\n",
        "  E.user_id = F.user_id AND e.order_id = F.order_id\n",
        ") \n",
        "ORDER BY E.purchase_date DESC\n",
        "\"\"\"\n",
        "\n",
        "user_purchases = pd.read_gbq(query, project)"
      ],
      "metadata": {
        "id": "lB_nvUPUwYlI"
      },
      "execution_count": 3,
      "outputs": []
    },
    {
      "cell_type": "code",
      "source": [
        "user_purchases.to_pickle('user_purchases.pkl')"
      ],
      "metadata": {
        "id": "ug7Ez2hYwdo2"
      },
      "execution_count": 4,
      "outputs": []
    },
    {
      "cell_type": "code",
      "source": [],
      "metadata": {
        "id": "tzkMyXLWDwaC"
      },
      "execution_count": null,
      "outputs": []
    }
  ]
}